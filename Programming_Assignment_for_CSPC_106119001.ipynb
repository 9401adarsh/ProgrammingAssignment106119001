{
  "nbformat": 4,
  "nbformat_minor": 0,
  "metadata": {
    "colab": {
      "name": "Programming Assignment for CSPC - 106119001",
      "provenance": [],
      "collapsed_sections": [],
      "authorship_tag": "ABX9TyMGk3FCebHDst6VRPf7uFJn",
      "include_colab_link": true
    },
    "kernelspec": {
      "name": "python3",
      "display_name": "Python 3"
    }
  },
  "cells": [
    {
      "cell_type": "markdown",
      "metadata": {
        "id": "view-in-github",
        "colab_type": "text"
      },
      "source": [
        "<a href=\"https://colab.research.google.com/github/9401adarsh/ProgrammingAssignment106119001/blob/master/Programming_Assignment_for_CSPC_106119001.ipynb\" target=\"_parent\"><img src=\"https://colab.research.google.com/assets/colab-badge.svg\" alt=\"Open In Colab\"/></a>"
      ]
    },
    {
      "cell_type": "markdown",
      "metadata": {
        "id": "17O7R6UZNPlg",
        "colab_type": "text"
      },
      "source": [
        "**Programming Assignment for CSPC**\n",
        "\n",
        "**Question Assigned: Q1. b)**\n",
        "\n",
        "\n",
        "---\n",
        "\n",
        "\n",
        "***Problem Statement: Show how bitwise operations can be used to find these combinations of A = {a,b,c,d,e},***\n",
        "***B = {b,c,d,g,p,t,v}, C = {c,e,i,o,u,x,y,z} & D = {d,e,h,i,n,o,t,u,x,y}*** \n",
        "\n",
        "---\n",
        "* A U B\n",
        "* A ∩ B\n",
        "* (A U D) ∩ (BUC) \n",
        "* A U B U C U D \n",
        "---\n",
        "\n",
        "**How the program has been implemented ?**\n",
        "\n",
        "\n",
        "\n",
        "*   As mentioned above, the bitset function from bitsets was used to create a UniversalSet class.\n",
        "*   The user is asked to input a Universal Set where elements taken as a string with space separating the elements.\n",
        "*   In order to ask input of sets which belong to the Universal Set, the function set_input is defined which takes elements in string format for the Universal Set and in set form for sets to be operated.\n",
        "*   In the set_union(), set_intersect() and set_complement() functions, the UniversalSet(argument set).bits() function is called to get the bitstring of the argument sets. The bitstrings are stored in list variables x and y where each element corresponds to bit position and is either '0' or '1' (in string form). We create another list z in which we store the results of the bitwise operations of the elements in X and Y. The list z is passed on to list_as_set() function to get set corresponding to the bitstring in z, and a set is returned.\n",
        "*   The set_diff() and set_symdif() functions are defined to find the set difference and symmetric differences of the argument sets. Implementation makes use of the previously defined set operation functions.\n",
        "*   The set_as_bitstring function is defined to show the bitstring representation of any set that is part of the UniversalSet class. This function also makes use of the bits() function of the UniversalSet class.\n",
        "\n",
        "---\n",
        "The program is as follows, kindly implement all code blocks to get proper results.\n",
        "\n",
        "Remarks : bitsets module is to be installed if the code is to be implemented in local IDE.\n",
        "\n",
        "\n",
        "\n",
        "\n",
        "\n",
        "\n",
        "\n"
      ]
    },
    {
      "cell_type": "code",
      "metadata": {
        "id": "kGZnXpGuIZj-",
        "colab_type": "code",
        "colab": {}
      },
      "source": [
        "!pip install bitsets\n",
        "# Program to implement set operations on sets represented by bit-strings\n",
        "\n",
        "# Importing bitset to create universal set class and implement bitset representation\n",
        "from bitsets import bitset \n",
        "\n",
        "# Function to take input of set in set notation \n",
        "def set_input(x):\n",
        "        try:\n",
        "          y = list(x.split())\n",
        "        except:\n",
        "          y = list(x)\n",
        "        return y"
      ],
      "execution_count": null,
      "outputs": []
    },
    {
      "cell_type": "code",
      "metadata": {
        "id": "9KBD8eUcI6RM",
        "colab_type": "code",
        "colab": {
          "base_uri": "https://localhost:8080/",
          "height": 52
        },
        "outputId": "e13bc947-1b6c-491e-da46-eafce8148ef4"
      },
      "source": [
        "print(\"Enter Sets sequentially as a string with \"\" to separate elements- \")\n",
        "x = input(\"Enter Universal Set as string- \")\n",
        "U = tuple(set_input(x))\n",
        "# Creating UniversalSet Class with the help of bitset() function\n",
        "UniversalSet = bitset('UniversalSet', U)"
      ],
      "execution_count": 29,
      "outputs": [
        {
          "output_type": "stream",
          "text": [
            "Enter Sets sequentially as a string with  to separate elements- \n",
            "Enter Universal Set as string- a b c d e f g h i j k l m n o p q r s t u v w x y z\n"
          ],
          "name": "stdout"
        }
      ]
    },
    {
      "cell_type": "code",
      "metadata": {
        "id": "IY8vykuAJCRL",
        "colab_type": "code",
        "colab": {}
      },
      "source": [
        "# Function for user to get bitstring representation of any set that is a subset of the universal set U\n",
        "def set_as_bitstring(A):\n",
        "    return UniversalSet(A).bits()\n"
      ],
      "execution_count": null,
      "outputs": []
    },
    {
      "cell_type": "code",
      "metadata": {
        "id": "0EJp6EIyJJJY",
        "colab_type": "code",
        "colab": {}
      },
      "source": [
        "# Function to convert bitstring stored as list to standard set form\n",
        "def list_to_set (A):\n",
        "    str1 = \"\"\n",
        "    for item in A:\n",
        "        str1 += item\n",
        "    return list(UniversalSet.frombits(str1))\n"
      ],
      "execution_count": null,
      "outputs": []
    },
    {
      "cell_type": "code",
      "metadata": {
        "id": "_XNuzHXqJR9y",
        "colab_type": "code",
        "colab": {}
      },
      "source": [
        "# Function that shows the working of set intersect operation with sets as bitstrings\n",
        "def set_intersect (A, B):\n",
        "    x = list(UniversalSet(A).bits())\n",
        "    y = list(UniversalSet(B).bits())\n",
        "    # z is the list that stores the elements of the bit string as it's elements\n",
        "    z = ['1' for i in range(len(U))]\n",
        "    # The following loop implements Bitwise And on string elements that are stored as '1' and '0'\n",
        "    for i in range(len(U)):\n",
        "        if(x[i] == '1' and y[i] == '1'):\n",
        "            z[i] = '1'\n",
        "        else:\n",
        "            z[i] = '0'\n",
        "    # The list_to_set() function is called to convert the list z to standard set form\n",
        "    Z = list_to_set(z)\n",
        "    return set(Z) "
      ],
      "execution_count": null,
      "outputs": []
    },
    {
      "cell_type": "code",
      "metadata": {
        "id": "nr2FtR0tJa5Y",
        "colab_type": "code",
        "colab": {}
      },
      "source": [
        "# Function that shows the working of set union operation with sets as bitstrings\n",
        "def set_union (A,B):\n",
        "    x = list(UniversalSet(A).bits())\n",
        "    y = list(UniversalSet(B).bits())\n",
        "    # z is the list that stores the elements of the bit string as it's elements\n",
        "    z = ['1' for i in range(len(U))]\n",
        "    # The following loop implements Bitwise Or on string elements that are stored as '1' and '0'\n",
        "    for i in range(len(U)):\n",
        "        if(x[i] == '0' and y[i] == '0'):\n",
        "            z[i] = '0'\n",
        "        else:\n",
        "            z[i] = '1'\n",
        "            \n",
        "    # The list_to_set() function is called to convert the list z to standard set form\n",
        "    Z = list_to_set(z)\n",
        "    return set(Z)    "
      ],
      "execution_count": null,
      "outputs": []
    },
    {
      "cell_type": "code",
      "metadata": {
        "id": "ZAH6ENQKJd5O",
        "colab_type": "code",
        "colab": {}
      },
      "source": [
        "# Function that shows the working of set complement operation with sets as bitstrings\n",
        "def set_complement (A):\n",
        "    x = list(UniversalSet(A).bits())\n",
        "    # z is the list that stores the elements of the bit string as it's elements\n",
        "    z = ['1' for i in range(len(U))]\n",
        "    # The following loop implements Bitwise Not on string elements that are stored as '1' and '0'\n",
        "    for i in range(len(U)):\n",
        "        if(x[i] == '0'):\n",
        "            z[i] = '1'\n",
        "        else:\n",
        "            z[i] = '0'\n",
        "    # The list_to_set() function is called to convert the list z to standard set form\n",
        "    Z = list_to_set(z)\n",
        "    return set(Z) "
      ],
      "execution_count": null,
      "outputs": []
    },
    {
      "cell_type": "code",
      "metadata": {
        "id": "XOiCWvsMJjMv",
        "colab_type": "code",
        "colab": {}
      },
      "source": [
        "# Function that shows the working of set difference operation with sets as bitstrings            \n",
        "def set_diff(A,B):\n",
        "    Z = set_intersect(A, list(set_complement(B)))\n",
        "    return set(Z)"
      ],
      "execution_count": null,
      "outputs": []
    },
    {
      "cell_type": "code",
      "metadata": {
        "id": "RO6yWfTTJliF",
        "colab_type": "code",
        "colab": {}
      },
      "source": [
        "# Function that shows the working of set symmetric difference operation with sets as bitstrings\n",
        "def set_symdif(A,B):\n",
        "    return set_union(list(set_diff(A,B)), list(set_diff(B,A)))\n"
      ],
      "execution_count": null,
      "outputs": []
    },
    {
      "cell_type": "code",
      "metadata": {
        "id": "ksbj52SQRhnq",
        "colab_type": "code",
        "colab": {
          "base_uri": "https://localhost:8080/",
          "height": 193
        },
        "outputId": "b7104957-9798-42dc-9d75-a85ab43ba174"
      },
      "source": [
        "print(\"In order to create new sets and perform operations, do the following. \\n Ex: declare A = set_input(x) where x is a set containing the elements\\n For union - set_union\\n intersection- set_intersect \\n complement - set_complement \\n set difference - set_diff \\n symmetric difference - set_symdif \\n set as bitstring - set_as_bitstring\")\n",
        "print(\"The universal set is-\", U, \"and it's bitstring representation is-\", UniversalSet(U).bits())"
      ],
      "execution_count": 30,
      "outputs": [
        {
          "output_type": "stream",
          "text": [
            "In order to create new sets and perform operations, do the following. \n",
            " Ex: declare A = set_input(x) where x is a set containing the elements\n",
            " For union - set_union\n",
            " intersection- set_intersect \n",
            " complement - set_complement \n",
            " set difference - set_diff \n",
            " symmetric difference - set_symdif \n",
            " set as bitstring - set_as_bitstring\n",
            "The universal set is- ('a', 'b', 'c', 'd', 'e', 'f', 'g', 'h', 'i', 'j', 'k', 'l', 'm', 'n', 'o', 'p', 'q', 'r', 's', 't', 'u', 'v', 'w', 'x', 'y', 'z') and it's bitstring representation is- 11111111111111111111111111\n"
          ],
          "name": "stdout"
        }
      ]
    },
    {
      "cell_type": "code",
      "metadata": {
        "id": "dosnvTiDRkGK",
        "colab_type": "code",
        "colab": {}
      },
      "source": [
        "A = set_input({'a','b','c','d','e'})\n",
        "B = set_input({'b','c','d','g','p','t','v'})\n",
        "C = set_input({'c','e','i','o','u','x','y','z'})\n",
        "D = set_input({'d','e','h','i','n','o','t','u','x','y'})"
      ],
      "execution_count": 31,
      "outputs": []
    },
    {
      "cell_type": "code",
      "metadata": {
        "id": "2d_HkN0da_Ys",
        "colab_type": "code",
        "colab": {
          "base_uri": "https://localhost:8080/",
          "height": 35
        },
        "outputId": "40c2db64-7958-4b5e-c93c-bfc305d26cbe"
      },
      "source": [
        "# A U B\n",
        "set_union(A,B)"
      ],
      "execution_count": 32,
      "outputs": [
        {
          "output_type": "execute_result",
          "data": {
            "text/plain": [
              "{'a', 'b', 'c', 'd', 'e', 'g', 'p', 't', 'v'}"
            ]
          },
          "metadata": {
            "tags": []
          },
          "execution_count": 32
        }
      ]
    },
    {
      "cell_type": "code",
      "metadata": {
        "id": "4m0dy81ncY_d",
        "colab_type": "code",
        "colab": {
          "base_uri": "https://localhost:8080/",
          "height": 36
        },
        "outputId": "c076ff5a-16f2-4e9e-eacb-0e07a57e855b"
      },
      "source": [
        "set_as_bitstring(set_union(A,B))"
      ],
      "execution_count": null,
      "outputs": [
        {
          "output_type": "execute_result",
          "data": {
            "application/vnd.google.colaboratory.intrinsic": {
              "type": "string"
            },
            "text/plain": [
              "'11111010000000010001010000'"
            ]
          },
          "metadata": {
            "tags": []
          },
          "execution_count": 18
        }
      ]
    },
    {
      "cell_type": "code",
      "metadata": {
        "id": "9akce0CUb-6f",
        "colab_type": "code",
        "colab": {
          "base_uri": "https://localhost:8080/",
          "height": 35
        },
        "outputId": "e2ad4134-b6e5-4071-dcae-ae05e0dd62bf"
      },
      "source": [
        "# A ∩ B\n",
        "set_intersect(A,B)"
      ],
      "execution_count": null,
      "outputs": [
        {
          "output_type": "execute_result",
          "data": {
            "text/plain": [
              "{'b', 'c', 'd'}"
            ]
          },
          "metadata": {
            "tags": []
          },
          "execution_count": 19
        }
      ]
    },
    {
      "cell_type": "code",
      "metadata": {
        "id": "IZ_CCnS6cpPC",
        "colab_type": "code",
        "colab": {
          "base_uri": "https://localhost:8080/",
          "height": 36
        },
        "outputId": "449c94a4-f02b-4156-d706-52e5da68efd6"
      },
      "source": [
        "set_as_bitstring(set_intersect(A,B))"
      ],
      "execution_count": null,
      "outputs": [
        {
          "output_type": "execute_result",
          "data": {
            "application/vnd.google.colaboratory.intrinsic": {
              "type": "string"
            },
            "text/plain": [
              "'01110000000000000000000000'"
            ]
          },
          "metadata": {
            "tags": []
          },
          "execution_count": 20
        }
      ]
    },
    {
      "cell_type": "code",
      "metadata": {
        "id": "9FOCiHzKb_Qx",
        "colab_type": "code",
        "colab": {
          "base_uri": "https://localhost:8080/",
          "height": 35
        },
        "outputId": "2c299876-b539-4f00-e474-096d75f09afe"
      },
      "source": [
        "# (A U D) ∩ (BUC)\n",
        "set_intersect(set_union(A,D), set_union(B,C))"
      ],
      "execution_count": null,
      "outputs": [
        {
          "output_type": "execute_result",
          "data": {
            "text/plain": [
              "{'b', 'c', 'd', 'e', 'i', 'o', 't', 'u', 'x', 'y'}"
            ]
          },
          "metadata": {
            "tags": []
          },
          "execution_count": 22
        }
      ]
    },
    {
      "cell_type": "code",
      "metadata": {
        "id": "OaeHX7Wlb_cJ",
        "colab_type": "code",
        "colab": {
          "base_uri": "https://localhost:8080/",
          "height": 36
        },
        "outputId": "d9092f46-fcac-4054-85f6-f3d0d48073c0"
      },
      "source": [
        "set_as_bitstring(set_intersect(set_union(A,D), set_union(B,C)))"
      ],
      "execution_count": null,
      "outputs": [
        {
          "output_type": "execute_result",
          "data": {
            "application/vnd.google.colaboratory.intrinsic": {
              "type": "string"
            },
            "text/plain": [
              "'01111000100000100001100110'"
            ]
          },
          "metadata": {
            "tags": []
          },
          "execution_count": 23
        }
      ]
    },
    {
      "cell_type": "code",
      "metadata": {
        "id": "E6uIs_u8b_tG",
        "colab_type": "code",
        "colab": {
          "base_uri": "https://localhost:8080/",
          "height": 331
        },
        "outputId": "4fddb458-29e8-4754-cdea-8cd044d87041"
      },
      "source": [
        "# A U B U C U D\n",
        "set_union(set_union(A,B), set_union(C,D))"
      ],
      "execution_count": null,
      "outputs": [
        {
          "output_type": "execute_result",
          "data": {
            "text/plain": [
              "{'a',\n",
              " 'b',\n",
              " 'c',\n",
              " 'd',\n",
              " 'e',\n",
              " 'g',\n",
              " 'h',\n",
              " 'i',\n",
              " 'n',\n",
              " 'o',\n",
              " 'p',\n",
              " 't',\n",
              " 'u',\n",
              " 'v',\n",
              " 'x',\n",
              " 'y',\n",
              " 'z'}"
            ]
          },
          "metadata": {
            "tags": []
          },
          "execution_count": 24
        }
      ]
    },
    {
      "cell_type": "code",
      "metadata": {
        "id": "7GUYCrTgb__p",
        "colab_type": "code",
        "colab": {
          "base_uri": "https://localhost:8080/",
          "height": 35
        },
        "outputId": "33dacdff-301d-44c2-bf04-eaecc91346b0"
      },
      "source": [
        "set_as_bitstring(set_union(set_union(A,B), set_union(C,D)))"
      ],
      "execution_count": null,
      "outputs": [
        {
          "output_type": "execute_result",
          "data": {
            "application/vnd.google.colaboratory.intrinsic": {
              "type": "string"
            },
            "text/plain": [
              "'100011'"
            ]
          },
          "metadata": {
            "tags": []
          },
          "execution_count": 116
        }
      ]
    },
    {
      "cell_type": "code",
      "metadata": {
        "id": "gp8h_bJbcADw",
        "colab_type": "code",
        "colab": {
          "base_uri": "https://localhost:8080/",
          "height": 35
        },
        "outputId": "daab9450-70d0-4e02-9ce0-a560b3cd9bed"
      },
      "source": [
        "set_symdif(A,B)"
      ],
      "execution_count": null,
      "outputs": [
        {
          "output_type": "execute_result",
          "data": {
            "text/plain": [
              "{'a', 'e', 'g', 'p', 't', 'v'}"
            ]
          },
          "metadata": {
            "tags": []
          },
          "execution_count": 25
        }
      ]
    },
    {
      "cell_type": "code",
      "metadata": {
        "id": "C6370-8Ic_PV",
        "colab_type": "code",
        "colab": {
          "base_uri": "https://localhost:8080/",
          "height": 36
        },
        "outputId": "1d58ff9e-497d-4219-86f2-323cabe9d50b"
      },
      "source": [
        "set_as_bitstring(set_symdif(A,B))"
      ],
      "execution_count": null,
      "outputs": [
        {
          "output_type": "execute_result",
          "data": {
            "application/vnd.google.colaboratory.intrinsic": {
              "type": "string"
            },
            "text/plain": [
              "'10001010000000010001010000'"
            ]
          },
          "metadata": {
            "tags": []
          },
          "execution_count": 26
        }
      ]
    }
  ]
}