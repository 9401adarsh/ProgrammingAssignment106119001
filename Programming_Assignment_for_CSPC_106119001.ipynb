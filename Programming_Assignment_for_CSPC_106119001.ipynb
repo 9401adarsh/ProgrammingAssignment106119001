{
  "nbformat": 4,
  "nbformat_minor": 0,
  "metadata": {
    "colab": {
      "name": "Programming Assignment for CSPC - 106119001",
      "provenance": [],
      "collapsed_sections": [],
      "authorship_tag": "ABX9TyP3AYrRGn/NyEoLRsJnNs5I",
      "include_colab_link": true
    },
    "kernelspec": {
      "name": "python3",
      "display_name": "Python 3"
    }
  },
  "cells": [
    {
      "cell_type": "markdown",
      "metadata": {
        "id": "view-in-github",
        "colab_type": "text"
      },
      "source": [
        "<a href=\"https://colab.research.google.com/github/9401adarsh/ProgrammingAssignment106119001/blob/master/Programming_Assignment_for_CSPC_106119001.ipynb\" target=\"_parent\"><img src=\"https://colab.research.google.com/assets/colab-badge.svg\" alt=\"Open In Colab\"/></a>"
      ]
    },
    {
      "cell_type": "markdown",
      "metadata": {
        "id": "17O7R6UZNPlg",
        "colab_type": "text"
      },
      "source": [
        "**Programming Assignment for CSPC**\n",
        "\n",
        "Question Assigned : Q1. a)\n",
        "\n",
        "Problem Statement : Write a program to show how basic set operations such as union and intersection can be implemented when set is represented as bit-string.\n",
        "\n",
        "**Programming Language Used** : ***Python Version 3.8***\n",
        "\n",
        "**3rd Party Function Used** : **bitset()** function from **bitsets** module in order to create a Universal Set Class and to represent sets as bitstrings.\n",
        "\n",
        "**Kindly note that the module was only used for storing the sets as bit-strings and creating a Universal Set class. In-built functions for set operations have not being used.**\n",
        "\n",
        "---\n",
        "\n",
        "**How the program has been implemented ?**\n",
        "\n",
        "\n",
        "\n",
        "*   As mentioned above, the bitset function from bitsets was used to create a UniversalSet class.\n",
        "*   The user is asked to input a Universal Set where elements taken as a string with space separating the elements.\n",
        "*   In order to ask input of sets which belong to the Universal Set, the function set_input is defined which takes elements in string format for the Universal Set and in set form for sets to be operated.\n",
        "*   In the set_union(), set_intersect() and set_complement() functions, the UniversalSet(argument set).bits() function is called to get the bitstring of the argument sets. The bitstrings are stored in list variables x and y where each element corresponds to bit position and is either '0' or '1' (in string form). We create another list z in which we store the results of the bitwise operations of the elements in X and Y. The list z is passed on to list_as_set() function to get set corresponding to the bitstring in z, and a set is returned.\n",
        "*   The set_diff() and set_symdif() functions are defined to find the set difference and symmetric differences of the argument sets. Implementation makes use of the previously defined set operation functions.\n",
        "*   The set_as_bitstring function is defined to show the bitstring representation of any set that is part of the UniversalSet class. This function also makes use of the bits() function of the UniversalSet class.\n",
        "\n",
        "---\n",
        "The program is as follows, kindly implement all code blocks to get proper results.\n",
        "\n",
        "Remarks : bitsets module is to be installed if the code is to be implemented in local IDE.\n",
        "\n",
        "\n",
        "\n",
        "\n",
        "\n",
        "\n",
        "\n"
      ]
    },
    {
      "cell_type": "code",
      "metadata": {
        "id": "kGZnXpGuIZj-",
        "colab_type": "code",
        "colab": {
          "base_uri": "https://localhost:8080/",
          "height": 35
        },
        "outputId": "6f390172-4e68-4bf5-c141-17f57c77fb6f"
      },
      "source": [
        "!pip install bitsets\n",
        "# Program to implement set operations on sets represented by bit-strings\n",
        "\n",
        "# Importing bitset to create universal set class and implement bitset representation\n",
        "from bitsets import bitset \n",
        "\n",
        "# Function to take input of set in set notation \n",
        "def set_input(x):\n",
        "        try:\n",
        "          y = list(x.split())\n",
        "        except:\n",
        "          y = list(x)\n",
        "        return y"
      ],
      "execution_count": null,
      "outputs": [
        {
          "output_type": "stream",
          "text": [
            "Requirement already satisfied: bitsets in /usr/local/lib/python3.6/dist-packages (0.7.16)\n"
          ],
          "name": "stdout"
        }
      ]
    },
    {
      "cell_type": "code",
      "metadata": {
        "id": "9KBD8eUcI6RM",
        "colab_type": "code",
        "colab": {
          "base_uri": "https://localhost:8080/",
          "height": 71
        },
        "outputId": "27963614-2945-4f69-b3be-06927dbf3925"
      },
      "source": [
        "print(\"Enter Sets sequentially as a string with \"\" to separate elements- \")\n",
        "x = input(\"Enter Universal Set as string- \")\n",
        "U = tuple(set_input(x))\n",
        "# Creating UniversalSet Class with the help of bitset() function\n",
        "UniversalSet = bitset('UniversalSet', U)"
      ],
      "execution_count": null,
      "outputs": [
        {
          "output_type": "stream",
          "text": [
            "Enter Sets sequentially as a string with  to separate elements- \n",
            "Enter Universal Set as string- F X C V G H \n"
          ],
          "name": "stdout"
        }
      ]
    },
    {
      "cell_type": "code",
      "metadata": {
        "id": "IY8vykuAJCRL",
        "colab_type": "code",
        "colab": {}
      },
      "source": [
        "# Function for user to get bitstring representation of any set that is a subset of the universal set U\n",
        "def set_as_bitstring(A):\n",
        "    return UniversalSet(A).bits()\n"
      ],
      "execution_count": null,
      "outputs": []
    },
    {
      "cell_type": "code",
      "metadata": {
        "id": "0EJp6EIyJJJY",
        "colab_type": "code",
        "colab": {}
      },
      "source": [
        "# Function to convert bitstring stored as list to standard set form\n",
        "def list_to_set (A):\n",
        "    str1 = \"\"\n",
        "    for item in A:\n",
        "        str1 += item\n",
        "    return list(UniversalSet.frombits(str1))\n"
      ],
      "execution_count": null,
      "outputs": []
    },
    {
      "cell_type": "code",
      "metadata": {
        "id": "_XNuzHXqJR9y",
        "colab_type": "code",
        "colab": {}
      },
      "source": [
        "# Function that shows the working of set intersect operation with sets as bitstrings\n",
        "def set_intersect (A, B):\n",
        "    x = list(UniversalSet(A).bits())\n",
        "    y = list(UniversalSet(B).bits())\n",
        "    # z is the list that stores the elements of the bit string as it's elements\n",
        "    z = ['1' for i in range(len(U))]\n",
        "    # The following loop implements Bitwise And on string elements that are stored as '1' and '0'\n",
        "    for i in range(len(U)):\n",
        "        if(x[i] == '1' and y[i] == '1'):\n",
        "            z[i] = '1'\n",
        "        else:\n",
        "            z[i] = '0'\n",
        "    # The list_to_set() function is called to convert the list z to standard set form\n",
        "    Z = list_to_set(z)\n",
        "    return Z "
      ],
      "execution_count": null,
      "outputs": []
    },
    {
      "cell_type": "code",
      "metadata": {
        "id": "nr2FtR0tJa5Y",
        "colab_type": "code",
        "colab": {}
      },
      "source": [
        "# Function that shows the working of set union operation with sets as bitstrings\n",
        "def set_union (A,B):\n",
        "    x = list(UniversalSet(A).bits())\n",
        "    y = list(UniversalSet(B).bits())\n",
        "    # z is the list that stores the elements of the bit string as it's elements\n",
        "    z = ['1' for i in range(len(U))]\n",
        "    # The following loop implements Bitwise Or on string elements that are stored as '1' and '0'\n",
        "    for i in range(len(U)):\n",
        "        if(x[i] == '0' and y[i] == '0'):\n",
        "            z[i] = '0'\n",
        "        else:\n",
        "            z[i] = '1'\n",
        "            \n",
        "    # The list_to_set() function is called to convert the list z to standard set form\n",
        "    Z = list_to_set(z)\n",
        "    return set(Z)    "
      ],
      "execution_count": null,
      "outputs": []
    },
    {
      "cell_type": "code",
      "metadata": {
        "id": "ZAH6ENQKJd5O",
        "colab_type": "code",
        "colab": {}
      },
      "source": [
        "# Function that shows the working of set complement operation with sets as bitstrings\n",
        "def set_complement (A):\n",
        "    x = list(UniversalSet(A).bits())\n",
        "    # z is the list that stores the elements of the bit string as it's elements\n",
        "    z = ['1' for i in range(len(U))]\n",
        "    # The following loop implements Bitwise Not on string elements that are stored as '1' and '0'\n",
        "    for i in range(len(U)):\n",
        "        if(x[i] == '0'):\n",
        "            z[i] = '1'\n",
        "        else:\n",
        "            z[i] = '0'\n",
        "    # The list_to_set() function is called to convert the list z to standard set form\n",
        "    Z = list_to_set(z)\n",
        "    return set(Z) "
      ],
      "execution_count": null,
      "outputs": []
    },
    {
      "cell_type": "code",
      "metadata": {
        "id": "XOiCWvsMJjMv",
        "colab_type": "code",
        "colab": {}
      },
      "source": [
        "# Function that shows the working of set difference operation with sets as bitstrings            \n",
        "def set_diff(A,B):\n",
        "    Z = set_intersect(A, list(set_complement(B)))\n",
        "    return set(Z)"
      ],
      "execution_count": null,
      "outputs": []
    },
    {
      "cell_type": "code",
      "metadata": {
        "id": "RO6yWfTTJliF",
        "colab_type": "code",
        "colab": {}
      },
      "source": [
        "# Function that shows the working of set symmetric difference operation with sets as bitstrings\n",
        "def set_symdif(A,B):\n",
        "    return set_union(list(set_diff(A,B)), list(set_diff(B,A)))\n"
      ],
      "execution_count": null,
      "outputs": []
    },
    {
      "cell_type": "code",
      "metadata": {
        "id": "ksbj52SQRhnq",
        "colab_type": "code",
        "colab": {
          "base_uri": "https://localhost:8080/",
          "height": 191
        },
        "outputId": "1a072620-20bc-4efa-de5c-6e2869ece484"
      },
      "source": [
        "print(\"In order to create new sets and perform operations, do the following. \\n Ex: declare A = set_input(x) where x is a set containing the elements\\n For union - set_union\\n intersection- set_intersect \\n complement - set_complement \\n set difference - set_diff \\n symmetric difference - set_symdif \\n set as bitstring - set_as_bitstring\")\n",
        "print(\"The universal set is-\", U, \"and it's bitstring representation is-\", UniversalSet(U).bits())"
      ],
      "execution_count": null,
      "outputs": [
        {
          "output_type": "stream",
          "text": [
            "In order to create new sets and perform operations, do the following. \n",
            " Ex: declare A = set_input(x) where x is a set containing the elements\n",
            " For union - set_union\n",
            " intersection- set_intersect \n",
            " complement - set_complement \n",
            " set difference - set_diff \n",
            " symmetric difference - set_symdif \n",
            " set as bitstring - set_as_bitstring\n",
            "The universal set is- ('F', 'X', 'C', 'V', 'G', 'H') and it's bitstring representation is- 111111\n"
          ],
          "name": "stdout"
        }
      ]
    },
    {
      "cell_type": "code",
      "metadata": {
        "id": "dosnvTiDRkGK",
        "colab_type": "code",
        "colab": {}
      },
      "source": [
        "A = set_input({'F','X','G','H'})\n",
        "B = set_input({'V','X'})"
      ],
      "execution_count": null,
      "outputs": []
    },
    {
      "cell_type": "code",
      "metadata": {
        "id": "2d_HkN0da_Ys",
        "colab_type": "code",
        "colab": {
          "base_uri": "https://localhost:8080/",
          "height": 34
        },
        "outputId": "d962e21d-5317-4b56-b5f7-81bde5d094a9"
      },
      "source": [
        "set_union(A,B)"
      ],
      "execution_count": null,
      "outputs": [
        {
          "output_type": "execute_result",
          "data": {
            "text/plain": [
              "{'F', 'G', 'H', 'V', 'X'}"
            ]
          },
          "metadata": {
            "tags": []
          },
          "execution_count": 109
        }
      ]
    },
    {
      "cell_type": "code",
      "metadata": {
        "id": "4m0dy81ncY_d",
        "colab_type": "code",
        "colab": {
          "base_uri": "https://localhost:8080/",
          "height": 35
        },
        "outputId": "2d61f77e-9b39-435b-85a2-f2ecd3adaf2d"
      },
      "source": [
        "set_as_bitstring(set_union(A,B))"
      ],
      "execution_count": null,
      "outputs": [
        {
          "output_type": "execute_result",
          "data": {
            "application/vnd.google.colaboratory.intrinsic": {
              "type": "string"
            },
            "text/plain": [
              "'110111'"
            ]
          },
          "metadata": {
            "tags": []
          },
          "execution_count": 110
        }
      ]
    },
    {
      "cell_type": "code",
      "metadata": {
        "id": "9akce0CUb-6f",
        "colab_type": "code",
        "colab": {
          "base_uri": "https://localhost:8080/",
          "height": 34
        },
        "outputId": "fea94779-aba3-4585-f569-e8f15905e6d3"
      },
      "source": [
        "set_intersect(A,B)"
      ],
      "execution_count": null,
      "outputs": [
        {
          "output_type": "execute_result",
          "data": {
            "text/plain": [
              "['X']"
            ]
          },
          "metadata": {
            "tags": []
          },
          "execution_count": 111
        }
      ]
    },
    {
      "cell_type": "code",
      "metadata": {
        "id": "IZ_CCnS6cpPC",
        "colab_type": "code",
        "colab": {
          "base_uri": "https://localhost:8080/",
          "height": 35
        },
        "outputId": "8ebf63ec-a4ac-49bd-c0c7-5e37d2fb636a"
      },
      "source": [
        "set_as_bitstring(set_intersect(A,B))"
      ],
      "execution_count": null,
      "outputs": [
        {
          "output_type": "execute_result",
          "data": {
            "application/vnd.google.colaboratory.intrinsic": {
              "type": "string"
            },
            "text/plain": [
              "'010000'"
            ]
          },
          "metadata": {
            "tags": []
          },
          "execution_count": 112
        }
      ]
    },
    {
      "cell_type": "code",
      "metadata": {
        "id": "9FOCiHzKb_Qx",
        "colab_type": "code",
        "colab": {
          "base_uri": "https://localhost:8080/",
          "height": 34
        },
        "outputId": "c7a164f2-9322-44b4-af34-649ffb073f3b"
      },
      "source": [
        "set_complement(A)"
      ],
      "execution_count": null,
      "outputs": [
        {
          "output_type": "execute_result",
          "data": {
            "text/plain": [
              "{'C', 'V'}"
            ]
          },
          "metadata": {
            "tags": []
          },
          "execution_count": 113
        }
      ]
    },
    {
      "cell_type": "code",
      "metadata": {
        "id": "OaeHX7Wlb_cJ",
        "colab_type": "code",
        "colab": {
          "base_uri": "https://localhost:8080/",
          "height": 35
        },
        "outputId": "037f49dd-8636-4c98-9c9e-59e4f9c9e6d6"
      },
      "source": [
        "set_as_bitstring(set_complement(A))"
      ],
      "execution_count": null,
      "outputs": [
        {
          "output_type": "execute_result",
          "data": {
            "application/vnd.google.colaboratory.intrinsic": {
              "type": "string"
            },
            "text/plain": [
              "'001100'"
            ]
          },
          "metadata": {
            "tags": []
          },
          "execution_count": 114
        }
      ]
    },
    {
      "cell_type": "code",
      "metadata": {
        "id": "E6uIs_u8b_tG",
        "colab_type": "code",
        "colab": {
          "base_uri": "https://localhost:8080/",
          "height": 34
        },
        "outputId": "1a120666-afdd-4247-cc61-d59d040b9aa5"
      },
      "source": [
        "set_diff(A,B)"
      ],
      "execution_count": null,
      "outputs": [
        {
          "output_type": "execute_result",
          "data": {
            "text/plain": [
              "{'F', 'G', 'H'}"
            ]
          },
          "metadata": {
            "tags": []
          },
          "execution_count": 115
        }
      ]
    },
    {
      "cell_type": "code",
      "metadata": {
        "id": "7GUYCrTgb__p",
        "colab_type": "code",
        "colab": {
          "base_uri": "https://localhost:8080/",
          "height": 35
        },
        "outputId": "33dacdff-301d-44c2-bf04-eaecc91346b0"
      },
      "source": [
        "set_as_bitstring(set_diff(A,B))"
      ],
      "execution_count": null,
      "outputs": [
        {
          "output_type": "execute_result",
          "data": {
            "application/vnd.google.colaboratory.intrinsic": {
              "type": "string"
            },
            "text/plain": [
              "'100011'"
            ]
          },
          "metadata": {
            "tags": []
          },
          "execution_count": 116
        }
      ]
    },
    {
      "cell_type": "code",
      "metadata": {
        "id": "gp8h_bJbcADw",
        "colab_type": "code",
        "colab": {
          "base_uri": "https://localhost:8080/",
          "height": 34
        },
        "outputId": "112a9b68-1ad0-48a6-f4a2-e581a25e2e3d"
      },
      "source": [
        "set_symdif(A,B)"
      ],
      "execution_count": null,
      "outputs": [
        {
          "output_type": "execute_result",
          "data": {
            "text/plain": [
              "{'F', 'G', 'H', 'V'}"
            ]
          },
          "metadata": {
            "tags": []
          },
          "execution_count": 117
        }
      ]
    },
    {
      "cell_type": "code",
      "metadata": {
        "id": "C6370-8Ic_PV",
        "colab_type": "code",
        "colab": {
          "base_uri": "https://localhost:8080/",
          "height": 35
        },
        "outputId": "1b740cae-44f2-46c8-ca83-24a41c7c9501"
      },
      "source": [
        "set_as_bitstring(set_symdif(A,B))"
      ],
      "execution_count": null,
      "outputs": [
        {
          "output_type": "execute_result",
          "data": {
            "application/vnd.google.colaboratory.intrinsic": {
              "type": "string"
            },
            "text/plain": [
              "'100111'"
            ]
          },
          "metadata": {
            "tags": []
          },
          "execution_count": 118
        }
      ]
    }
  ]
}